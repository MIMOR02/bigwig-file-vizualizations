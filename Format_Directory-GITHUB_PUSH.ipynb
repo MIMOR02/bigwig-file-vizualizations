{
 "cells": [
  {
   "cell_type": "code",
   "execution_count": 12,
   "metadata": {},
   "outputs": [],
   "source": [
    "import pandas as pd\n",
    "import os"
   ]
  },
  {
   "cell_type": "markdown",
   "metadata": {},
   "source": [
    "Reads in lines from a csv file to a dataframe (csv file must be formatted like bigwig_directory.csv <br>\n",
    "os is an operating sysyem built in python library and it allows manipulating and moving files"
   ]
  },
  {
   "cell_type": "code",
   "execution_count": 26,
   "metadata": {},
   "outputs": [],
   "source": [
    "csv_file = 'bigwig_directory_PC9.csv' # Change to read from a different csv file (MUST BE FORMATTED IN THE SAME WAY AS bigwig_directory_liver.csv)\n",
    "# edit the line above for a different csv file\n",
    "files = pd.read_csv(csv_file)"
   ]
  },
  {
   "cell_type": "markdown",
   "metadata": {},
   "source": [
    "Prepares the directory that will contain all Organs/Tissues experimental data. May change the visualizations folder for a new set of data. Please don't change this for visualizations for these experiments"
   ]
  },
  {
   "cell_type": "code",
   "execution_count": 27,
   "metadata": {},
   "outputs": [],
   "source": [
    "parent_dir = '.'\n",
    "visualizations_folder = 'bigWig_files_and_visualizations' # Change to start a new file tree\n",
    "path = os.path.join(parent_dir, visualizations_folder)\n",
    "if not os.path.exists(path):\n",
    "    os.mkdir(path)"
   ]
  },
  {
   "cell_type": "markdown",
   "metadata": {},
   "source": [
    "Makes all necessary directories as specified in the csv file, and move any bigWig files in the home directory to its respective location"
   ]
  },
  {
   "cell_type": "code",
   "execution_count": 28,
   "metadata": {},
   "outputs": [],
   "source": [
    "# iterate through dataframe to make new directories\n",
    "for index, row in files.iterrows():\n",
    "    path ='./'+visualizations_folder+'/'+files['Organ/Tissue'].iloc[index]+'/'+files['Experiment'].iloc[index]+'/'+files['Function/Assay'].iloc[index]+'/'  \n",
    "    \n",
    "    # only create new directories if the path is new\n",
    "    if not os.path.exists(path):\n",
    "        os.makedirs(path)\n",
    "    # add all files that are in parent directory (Vizualizations folder) to their proper folder\n",
    "    try:\n",
    "        fname = files['BigWig File ID (FC over Control)'].iloc[index]+\".bigWig\"\n",
    "        os.rename('./'+fname, path+fname)\n",
    "    except:\n",
    "        print(\"FILE NOT FOUND: \"+path+files['BigWig File ID (FC over Control)'].iloc[index]+\".bigWig\")\n",
    "        pass\n",
    "    \n"
   ]
  },
  {
   "cell_type": "code",
   "execution_count": null,
   "metadata": {},
   "outputs": [],
   "source": []
  }
 ],
 "metadata": {
  "kernelspec": {
   "display_name": "Python 3",
   "language": "python",
   "name": "python3"
  },
  "language_info": {
   "codemirror_mode": {
    "name": "ipython",
    "version": 3
   },
   "file_extension": ".py",
   "mimetype": "text/x-python",
   "name": "python",
   "nbconvert_exporter": "python",
   "pygments_lexer": "ipython3",
   "version": "3.7.6"
  }
 },
 "nbformat": 4,
 "nbformat_minor": 5
}
