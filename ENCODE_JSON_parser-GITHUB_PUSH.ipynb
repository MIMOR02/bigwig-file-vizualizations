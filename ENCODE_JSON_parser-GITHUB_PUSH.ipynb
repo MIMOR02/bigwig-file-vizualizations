{
 "cells": [
  {
   "cell_type": "code",
   "execution_count": 1,
   "metadata": {},
   "outputs": [],
   "source": [
    "import json\n",
    "from bs4 import BeautifulSoup\n",
    "import requests\n",
    "import csv\n",
    "# import lxml"
   ]
  },
  {
   "cell_type": "markdown",
   "metadata": {},
   "source": [
    "# JSON Parser\n",
    "Run this code to generate a csv file that contains information about bigWig files from selected experiments on <a href='https://www.encodeproject.org'>encodeproject.org</a>"
   ]
  },
  {
   "cell_type": "code",
   "execution_count": 3,
   "metadata": {},
   "outputs": [
    {
     "ename": "KeyError",
     "evalue": "'@graph'",
     "output_type": "error",
     "traceback": [
      "\u001b[0;31m---------------------------------------------------------------------------\u001b[0m",
      "\u001b[0;31mKeyError\u001b[0m                                  Traceback (most recent call last)",
      "\u001b[0;32m<ipython-input-3-2159f568e74c>\u001b[0m in \u001b[0;36m<module>\u001b[0;34m\u001b[0m\n\u001b[1;32m     24\u001b[0m \u001b[0;34m\u001b[0m\u001b[0m\n\u001b[1;32m     25\u001b[0m     \u001b[0;31m# iterate over experiments\u001b[0m\u001b[0;34m\u001b[0m\u001b[0;34m\u001b[0m\u001b[0;34m\u001b[0m\u001b[0m\n\u001b[0;32m---> 26\u001b[0;31m     \u001b[0;32mfor\u001b[0m \u001b[0mobj\u001b[0m \u001b[0;32min\u001b[0m \u001b[0mexperimental_matrix\u001b[0m\u001b[0;34m[\u001b[0m\u001b[0;34m'@graph'\u001b[0m\u001b[0;34m]\u001b[0m\u001b[0;34m:\u001b[0m\u001b[0;34m\u001b[0m\u001b[0;34m\u001b[0m\u001b[0m\n\u001b[0m\u001b[1;32m     27\u001b[0m \u001b[0;34m\u001b[0m\u001b[0m\n\u001b[1;32m     28\u001b[0m         \u001b[0;31m#scrape from experiments webpage\u001b[0m\u001b[0;34m\u001b[0m\u001b[0;34m\u001b[0m\u001b[0;34m\u001b[0m\u001b[0m\n",
      "\u001b[0;31mKeyError\u001b[0m: '@graph'"
     ]
    }
   ],
   "source": [
    "# csv file header\n",
    "header = ['Biosample Summary', 'Assay', 'Target', 'BigWig File ID', 'Output Type','Isogenic Replicate', 'Download Link']\n",
    "\n",
    "# website to be scraped\n",
    "url = 'https://www.encodeproject.org/'\n",
    "\n",
    "# webpage containing experiments to be scraped\n",
    "# the 'search... is in the URL once experiments have been selected and in the list format\n",
    "# all &format=json at the end of the 'search...' URL\n",
    "experiments = url + 'search/?type=Experiment&control_type!=*&status=released&perturbed=false&assay_title=TF+ChIP-seq&target.investigated_as=transcription+factor&target.investigated_as=chromatin+remodeler&target.investigated_as=cofactor&target.investigated_as=RNA+polymerase+complex&replicates.library.biosample.donor.organism.scientific_name=Homo+sapiens&biosample_ontology.classification=tissue&biosample_ontology.term_name=liver&format=json'\n",
    "\n",
    "# scrape text from webpage body\n",
    "# BeautifulSoup (BS4) is the library for scraping webpages\n",
    "# json puts webpage contents into a json object\n",
    "soup = BeautifulSoup(requests.get(experiments).text, 'html.parser')\n",
    "experimental_matrix = json.loads(str(soup))\n",
    "\n",
    "# write to csv\n",
    "# the bame bigWigFiles.csv can be changed if multiple webpages are scraped; otherwise results will be overwritten\n",
    "with open('bigWigFiles_human_liver_TFs.csv','w') as f:\n",
    "    \n",
    "    writer = csv.writer(f)\n",
    "    writer.writerow(header)\n",
    "    \n",
    "    # iterate over experiments\n",
    "    for obj in experimental_matrix['@graph']:\n",
    "        \n",
    "        #scrape from experiments webpage\n",
    "        soup = BeautifulSoup(requests.get(url+obj['@id']+'?format=json').text, 'html.parser')\n",
    "        experiment_json = json.loads(str(soup))\n",
    "        \n",
    "        # grab desired information\n",
    "        biosample_summary = experiment_json['biosample_summary']\n",
    "        assay = experiment_json['assay_title']\n",
    "        \n",
    "        # DNase-seq and ATAC-seq don't have targets\n",
    "        if 'target' in experiment_json.keys():\n",
    "            target = experiment_json['target']['label']\n",
    "        else:\n",
    "            target = ''\n",
    "        \n",
    "        # filter for bigWig files from ENCODE4\n",
    "        # This filter may have to change once new version of ENCODE results is released. \n",
    "        bigWig_files = list(filter(lambda x: 'File' in x['@type'] and x['status']=='released' and x['file_format']=='bigWig' and \"ENCODE4\" in x['analyses'][0]['title'], experiment_json['files']))\n",
    "        \n",
    "        # add files to csv file\n",
    "        for file in bigWig_files:\n",
    "            link = url+file['href']\n",
    "            output_type = file['output_type']\n",
    "            replicates = ','.join(file['technical_replicates'])\n",
    "            fname = file['accession']\n",
    "            writer.writerow([biosample_summary, assay, target, fname, output_type, replicates, link])"
   ]
  }
 ],
 "metadata": {
  "kernelspec": {
   "display_name": "Python 3",
   "language": "python",
   "name": "python3"
  },
  "language_info": {
   "codemirror_mode": {
    "name": "ipython",
    "version": 3
   },
   "file_extension": ".py",
   "mimetype": "text/x-python",
   "name": "python",
   "nbconvert_exporter": "python",
   "pygments_lexer": "ipython3",
   "version": "3.7.6"
  }
 },
 "nbformat": 4,
 "nbformat_minor": 4
}
